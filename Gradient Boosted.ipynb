{
 "cells": [
  {
   "cell_type": "code",
   "execution_count": 23,
   "metadata": {},
   "outputs": [],
   "source": [
    "#!/usr/bin/env python\n",
    "# coding: utf-8\n",
    "\n",
    "\n",
    "import numpy as np\n",
    "import pandas as pd\n",
    "from sklearn.metrics import mean_squared_error, r2_score\n",
    "from sklearn.ensemble import GradientBoostingRegressor"
   ]
  },
  {
   "cell_type": "code",
   "execution_count": 3,
   "metadata": {},
   "outputs": [],
   "source": [
    "def read_dataset(filename):\n",
    "    dataset = pd.read_csv(filename)#training_set_with_cue.csv\n",
    "    return dataset\n",
    "def get_data_labels(df):\n",
    "    label = df['flow_size']\n",
    "    del df['flow_size']\n",
    "    return df, label"
   ]
  },
  {
   "cell_type": "code",
   "execution_count": 4,
   "metadata": {},
   "outputs": [],
   "source": [
    "training_df = read_dataset('KMeans_training.csv')\n",
    "test_df = read_dataset('KMeans_test.csv')\n",
    "training_x, training_y = get_data_labels(training_df)\n",
    "testing_x, testing_y = get_data_labels(test_df)"
   ]
  },
  {
   "cell_type": "code",
   "execution_count": 32,
   "metadata": {},
   "outputs": [
    {
     "name": "stdout",
     "output_type": "stream",
     "text": [
      "Accuracy is  0.7953543511157025\n",
      "R2 is  0.7953543511157025\n"
     ]
    }
   ],
   "source": [
    "regItem = GradientBoostingRegressor( max_depth=10, n_estimators=50, learning_rate=1.0 )\n",
    "regItem.fit(training_x, training_y)\n",
    "list_of_err=[]\n",
    "\n",
    "for predicted_y in regItem.staged_predict(testing_x):\n",
    "    list_of_err.append(mean_squared_error(testing_y, predicted_y))\n",
    "topEst = np.argmin(list_of_err)\n",
    "\n",
    "bestRegItem = GradientBoostingRegressor( max_depth=7, n_estimators=topEst+1, learning_rate=1.0 )\n",
    "bestRegItem.fit(training_x, training_y)\n",
    "#predicted_score = bestRegItem.score(testing_x,testing_y)\n",
    "#predicted_y = bestRegItem.predict(testing_x)\n",
    "\n",
    "predicted_score = bestRegItem.score(testing_x,testing_y)\n",
    "predicted_y = bestRegItem.predict(testing_x)\n",
    "\n",
    "print(\"Accuracy is \",predicted_score)\n",
    "print(\"R2 is \", r2_score(testing_y, predicted_y))\n",
    "\n",
    "#Reference :https://towardsdatascience.com/machine-learning-part-18-boosting-algorithms-gradient-boosting-in-python-ef5ae6965be4\n"
   ]
  },
  {
   "cell_type": "code",
   "execution_count": null,
   "metadata": {},
   "outputs": [],
   "source": []
  }
 ],
 "metadata": {
  "kernelspec": {
   "display_name": "Python 3",
   "language": "python",
   "name": "python3"
  },
  "language_info": {
   "codemirror_mode": {
    "name": "ipython",
    "version": 3
   },
   "file_extension": ".py",
   "mimetype": "text/x-python",
   "name": "python",
   "nbconvert_exporter": "python",
   "pygments_lexer": "ipython3",
   "version": "3.8.1"
  }
 },
 "nbformat": 4,
 "nbformat_minor": 4
}
